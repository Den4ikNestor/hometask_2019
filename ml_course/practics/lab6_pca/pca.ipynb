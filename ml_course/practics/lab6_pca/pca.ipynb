{
 "cells": [
  {
   "cell_type": "code",
   "execution_count": 2,
   "metadata": {},
   "outputs": [],
   "source": [
    "import numpy as np\n",
    "import pandas as pd\n",
    "import warnings\n",
    "warnings.filterwarnings('ignore')\n",
    "\n",
    "class PCA_scratch:\n",
    "\n",
    "    def __init__(self, n_components, alpha_coef):\n",
    "        self.n_components = n_components\n",
    "        self.alpha_coef = alpha_coef\n",
    "        self.__components = None\n",
    "        self.__mean = None\n",
    "        self.__eigenvalues = None\n",
    "        \n",
    "    def return_components(self):\n",
    "        return self.__components\n",
    "    \n",
    "    def return_eigenvalues(self):\n",
    "        return self.__eigenvalues\n",
    "    \n",
    "    def fit(self, X):\n",
    "        # Mean centering\n",
    "        self.__mean = np.mean(X, axis=0)\n",
    "        X = X - self.__mean\n",
    "        # covariance, function needs samples as columns\n",
    "        cov = np.cov(X.T)\n",
    "        # eigenvalues, eigenvectors\n",
    "        eigenvalues, eigenvectors = np.linalg.eig(cov)\n",
    "        # -> eigenvector v = [:,i] column vector, transpose for easier calculations\n",
    "        # sort eigenvectors\n",
    "        eigenvectors = eigenvectors.T\n",
    "        idxs = np.argsort(eigenvalues)[::-1]\n",
    "        eigenvalues = eigenvalues[idxs]\n",
    "        eigenvectors = eigenvectors[idxs]\n",
    "        dispersion = self.count_dispersion(eigenvalues)\n",
    "        r = np.where(dispersion >= self.alpha_coef)[0][0] + 1\n",
    "        self.__eigenvalues = eigenvalues\n",
    "        self.__components = eigenvectors[:r, :]\n",
    "\n",
    "    def count_dispersion(self, eigenvalues):\n",
    "        f_r = np.zeros(len(eigenvalues))\n",
    "        for r in range(len(eigenvalues)):\n",
    "            f_r[r] = np.sum(eigenvalues[: r+1]) / np.sum(eigenvalues)\n",
    "        return f_r\n",
    "    \n",
    "    def transform(self, X):\n",
    "        # project data\n",
    "        X = X - self.__mean\n",
    "        return np.dot(X, self.__components.T)"
   ]
  },
  {
   "cell_type": "code",
   "execution_count": 3,
   "metadata": {},
   "outputs": [
    {
     "name": "stdout",
     "output_type": "stream",
     "text": [
      "Shape of X: (150, 4)\n",
      "Shape of transformed X: (150, 2)\n"
     ]
    },
    {
     "data": {
      "text/plain": [
       "<Figure size 640x480 with 2 Axes>"
      ]
     },
     "metadata": {},
     "output_type": "display_data"
    }
   ],
   "source": [
    "from sklearn import datasets\n",
    "import matplotlib.pyplot as plt\n",
    "import numpy as np\n",
    "\n",
    "data = datasets.load_iris()\n",
    "X = data.data\n",
    "y = data.target\n",
    "\n",
    "# Project the data onto the 2 primary principal components\n",
    "pca = PCA_scratch(2, 0.95)\n",
    "pca.fit(X)\n",
    "X_projected = pca.transform(X)\n",
    "\n",
    "print('Shape of X:', X.shape)\n",
    "print('Shape of transformed X:', X_projected.shape)\n",
    "\n",
    "x1 = X_projected[:, 0]\n",
    "x2 = X_projected[:, 1]\n",
    "\n",
    "plt.scatter(x1, x2,\n",
    "        c=y, edgecolor='none', alpha=0.8,\n",
    "        cmap=plt.cm.get_cmap('viridis', 3))\n",
    "\n",
    "plt.xlabel('Principal Component 1')\n",
    "plt.ylabel('Principal Component 2')\n",
    "plt.colorbar()\n",
    "plt.show()"
   ]
  },
  {
   "cell_type": "code",
   "execution_count": 8,
   "metadata": {},
   "outputs": [
    {
     "data": {
      "text/plain": [
       "array([[5.1, 3.5, 1.4, 0.2],\n",
       "       [4.9, 3. , 1.4, 0.2],\n",
       "       [4.7, 3.2, 1.3, 0.2],\n",
       "       [4.6, 3.1, 1.5, 0.2],\n",
       "       [5. , 3.6, 1.4, 0.2]])"
      ]
     },
     "execution_count": 8,
     "metadata": {},
     "output_type": "execute_result"
    }
   ],
   "source": [
    "X[0:5]"
   ]
  },
  {
   "cell_type": "code",
   "execution_count": 10,
   "metadata": {},
   "outputs": [
    {
     "data": {
      "text/plain": [
       "array([[ 0.0177    , -0.00813333, -0.00563333, -0.02096667,  0.01703333],\n",
       "       [-0.00813333,  0.02186667, -0.00146667,  0.00653333, -0.0188    ],\n",
       "       [-0.00563333, -0.00146667,  0.00436667,  0.0057    , -0.00296667],\n",
       "       [-0.02096667,  0.00653333,  0.0057    ,  0.02703333, -0.0183    ],\n",
       "       [ 0.01703333, -0.0188    , -0.00296667, -0.0183    ,  0.02303333]])"
      ]
     },
     "execution_count": 10,
     "metadata": {},
     "output_type": "execute_result"
    }
   ],
   "source": [
    "np.cov(X[0:5] - np.mean(X[0:5], axis=0))"
   ]
  },
  {
   "cell_type": "code",
   "execution_count": 4,
   "metadata": {},
   "outputs": [],
   "source": [
    "result = pd.concat([pd.DataFrame(X, columns=['first', 'second', 'third', 'forth']), \n",
    "                    pd.DataFrame(X_projected, columns = ['pca_first', 'pca_second'])], axis=1).corr()"
   ]
  },
  {
   "cell_type": "code",
   "execution_count": 278,
   "metadata": {},
   "outputs": [
    {
     "data": {
      "text/html": [
       "<div>\n",
       "<style scoped>\n",
       "    .dataframe tbody tr th:only-of-type {\n",
       "        vertical-align: middle;\n",
       "    }\n",
       "\n",
       "    .dataframe tbody tr th {\n",
       "        vertical-align: top;\n",
       "    }\n",
       "\n",
       "    .dataframe thead th {\n",
       "        text-align: right;\n",
       "    }\n",
       "</style>\n",
       "<table border=\"1\" class=\"dataframe\">\n",
       "  <thead>\n",
       "    <tr style=\"text-align: right;\">\n",
       "      <th></th>\n",
       "      <th>first</th>\n",
       "      <th>second</th>\n",
       "      <th>third</th>\n",
       "      <th>forth</th>\n",
       "    </tr>\n",
       "  </thead>\n",
       "  <tbody>\n",
       "    <tr>\n",
       "      <th>pca_first</th>\n",
       "      <td>0.897402</td>\n",
       "      <td>-0.398748</td>\n",
       "      <td>0.997874</td>\n",
       "      <td>0.966548</td>\n",
       "    </tr>\n",
       "    <tr>\n",
       "      <th>pca_second</th>\n",
       "      <td>-0.390604</td>\n",
       "      <td>-0.825229</td>\n",
       "      <td>0.048381</td>\n",
       "      <td>0.048782</td>\n",
       "    </tr>\n",
       "  </tbody>\n",
       "</table>\n",
       "</div>"
      ],
      "text/plain": [
       "               first    second     third     forth\n",
       "pca_first   0.897402 -0.398748  0.997874  0.966548\n",
       "pca_second -0.390604 -0.825229  0.048381  0.048782"
      ]
     },
     "execution_count": 278,
     "metadata": {},
     "output_type": "execute_result"
    }
   ],
   "source": [
    "result[['first', 'second', 'third', 'forth']].ix[['pca_first', 'pca_second']]"
   ]
  },
  {
   "cell_type": "code",
   "execution_count": 244,
   "metadata": {},
   "outputs": [],
   "source": [
    "from sklearn.decomposition import PCA"
   ]
  },
  {
   "cell_type": "code",
   "execution_count": 245,
   "metadata": {},
   "outputs": [],
   "source": [
    "pca_sklearn = PCA(2)\n",
    "pca_sklearn.fit(X)\n",
    "X_pca_sklearn = pca_sklearn.transform(X)"
   ]
  },
  {
   "cell_type": "code",
   "execution_count": 246,
   "metadata": {},
   "outputs": [
    {
     "data": {
      "text/plain": [
       "array([[ 0.36138659, -0.08452251,  0.85667061,  0.3582892 ],\n",
       "       [ 0.65658877,  0.73016143, -0.17337266, -0.07548102]])"
      ]
     },
     "execution_count": 246,
     "metadata": {},
     "output_type": "execute_result"
    }
   ],
   "source": [
    "pca_sklearn.components_"
   ]
  },
  {
   "cell_type": "code",
   "execution_count": 247,
   "metadata": {},
   "outputs": [
    {
     "data": {
      "text/plain": [
       "<matplotlib.colorbar.Colorbar at 0x2506435c898>"
      ]
     },
     "execution_count": 247,
     "metadata": {},
     "output_type": "execute_result"
    },
    {
     "data": {
      "image/png": "[encoded data removed]",
      "text/plain": [
       "<Figure size 432x288 with 2 Axes>"
      ]
     },
     "metadata": {
      "needs_background": "light"
     },
     "output_type": "display_data"
    }
   ],
   "source": [
    "plt.scatter(X_pca_sklearn[:, 0], X_pca_sklearn[:, 1],\n",
    "        c=y, edgecolor='none', alpha=0.8,\n",
    "        cmap=plt.cm.get_cmap('viridis', 3))\n",
    "plt.colorbar()"
   ]
  },
  {
   "cell_type": "code",
   "execution_count": 248,
   "metadata": {},
   "outputs": [
    {
     "data": {
      "image/png": "[encoded data removed]",
      "text/plain": [
       "<Figure size 1440x360 with 10 Axes>"
      ]
     },
     "metadata": {
      "needs_background": "light"
     },
     "output_type": "display_data"
    }
   ],
   "source": [
    "data = datasets.load_digits()\n",
    "\n",
    "x = data.data\n",
    "y = data.target\n",
    "\n",
    "plt.figure(figsize=(20,5))\n",
    "for i in range(10):\n",
    "    plt.subplot(1,10,i+1)\n",
    "    plt.imshow(x[i].reshape((8,8)))"
   ]
  },
  {
   "cell_type": "code",
   "execution_count": 249,
   "metadata": {},
   "outputs": [],
   "source": [
    "pca_scratch = PCA_scratch(64, 0.95)\n",
    "pca_scratch.fit(x)\n",
    "x_pca_digit = pca_scratch.transform(x)"
   ]
  },
  {
   "cell_type": "code",
   "execution_count": 251,
   "metadata": {},
   "outputs": [],
   "source": [
    "eigenvalues = pca_scratch.return_eigenvalues()\n",
    "eigenvectors = pca_scratch.return_components()"
   ]
  },
  {
   "cell_type": "code",
   "execution_count": 252,
   "metadata": {},
   "outputs": [
    {
     "data": {
      "image/png": "[encoded data removed]",
      "text/plain": [
       "<Figure size 1440x720 with 5 Axes>"
      ]
     },
     "metadata": {
      "needs_background": "light"
     },
     "output_type": "display_data"
    }
   ],
   "source": [
    "vectors = pca_digit.components_\n",
    "values = pca_digit.explained_variance_\n",
    "\n",
    "plt.figure(figsize=(20,10))\n",
    "for i in range(5):\n",
    "    plt.subplot(1,10,i+1)\n",
    "    plt.imshow(eigenvalues[i] * eigenvectors[i].reshape((8,8)))"
   ]
  },
  {
   "cell_type": "code",
   "execution_count": 253,
   "metadata": {},
   "outputs": [],
   "source": [
    "pca_digit = PCA(64)\n",
    "pca_digit.fit(x)\n",
    "x_pca_digit = pca_digit.transform(x)"
   ]
  },
  {
   "cell_type": "code",
   "execution_count": 254,
   "metadata": {},
   "outputs": [
    {
     "data": {
      "image/png": "[encoded data removed]",
      "text/plain": [
       "<Figure size 1440x720 with 5 Axes>"
      ]
     },
     "metadata": {
      "needs_background": "light"
     },
     "output_type": "display_data"
    }
   ],
   "source": [
    "vectors = pca_digit.components_\n",
    "values = pca_digit.explained_variance_\n",
    "\n",
    "plt.figure(figsize=(20,10))\n",
    "for i in range(5):\n",
    "    plt.subplot(1,10,i+1)\n",
    "    plt.imshow(values[i] * vectors[i].reshape((8,8)))"
   ]
  }
 ],
 "metadata": {
  "kernelspec": {
   "display_name": "Python 3",
   "language": "python",
   "name": "python3"
  },
  "language_info": {
   "codemirror_mode": {
    "name": "ipython",
    "version": 3
   },
   "file_extension": ".py",
   "mimetype": "text/x-python",
   "name": "python",
   "nbconvert_exporter": "python",
   "pygments_lexer": "ipython3",
   "version": "3.7.3"
  }
 },
 "nbformat": 4,
 "nbformat_minor": 2
}
