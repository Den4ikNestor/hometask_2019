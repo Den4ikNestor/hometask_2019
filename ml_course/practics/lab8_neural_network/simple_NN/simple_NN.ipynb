{
  "nbformat": 4,
  "nbformat_minor": 0,
  "metadata": {
    "kernelspec": {
      "display_name": "Python 3",
      "language": "python",
      "name": "python3"
    },
    "language_info": {
      "codemirror_mode": {
        "name": "ipython",
        "version": 3
      },
      "file_extension": ".py",
      "mimetype": "text/x-python",
      "name": "python",
      "nbconvert_exporter": "python",
      "pygments_lexer": "ipython3",
      "version": "3.7.3"
    },
    "colab": {
      "name": "simple_NN.ipynb",
      "provenance": []
    }
  },
  "cells": [
    {
      "cell_type": "markdown",
      "metadata": {
        "id": "ql5aJ9FNjKGo",
        "colab_type": "text"
      },
      "source": [
        "# **TASK:** to create neural network with numpy for regression and classification tasks"
      ]
    },
    {
      "cell_type": "code",
      "metadata": {
        "id": "o4Hqcf8ijK3F",
        "colab_type": "code",
        "colab": {}
      },
      "source": [
        "from sklearn.datasets import load_iris, load_boston\n",
        "from sklearn.model_selection import train_test_split\n",
        "from sklearn.metrics import accuracy_score\n",
        "\n",
        "import numpy as np\n",
        "import matplotlib.pyplot as plt\n",
        "from sklearn.metrics import mean_squared_error\n",
        "import warnings\n",
        "warnings.filterwarnings('ignore')"
      ],
      "execution_count": 0,
      "outputs": []
    },
    {
      "cell_type": "code",
      "metadata": {
        "id": "fevSgUAeTlZ2",
        "colab_type": "code",
        "colab": {}
      },
      "source": [
        "class NeuralNetwork(object):\n",
        "    def __init__(self, input_size, hidden_size1, hidden_size2, output_size, learning_rate, beta, type_nn):\n",
        "        self.inputSize = input_size\n",
        "        self.hiddenSize1 = hidden_size1\n",
        "        self.hiddenSize2 = hidden_size2\n",
        "        self.outputSize = output_size\n",
        "        self.learning_rate = learning_rate\n",
        "        self.beta = beta\n",
        "        self.type_nn = type_nn\n",
        "        self.loss_dict_clas = []\n",
        "        self.loss_dict_regr = []\n",
        "        self.acc_dict_clas = []\n",
        "        \n",
        "        self.W1 = np.random.normal(0, 0.03, (self.inputSize, self.hiddenSize1))\n",
        "        self.b1 = np.ones((self.hiddenSize1, 1))\n",
        "        self.W2 = np.random.normal(0, 0.03, (self.hiddenSize1, self.hiddenSize2))\n",
        "        self.b2 = np.ones((self.hiddenSize2, 1))\n",
        "        self.W3 = np.random.normal(0, 0.03, (self.hiddenSize2, self.outputSize))\n",
        "        self.b3 = np.ones((self.outputSize, 1))\n",
        "    \n",
        "    def softmax(self, X, deriv = False):\n",
        "        if (deriv == True):\n",
        "            return np.array([it * (1 - it) for it in X])\n",
        "        else:\n",
        "            exp_X = np.exp(X)\n",
        "            exp_X_sum = np.sum(exp_X, axis=1).reshape(-1, 1)\n",
        "            exp_X = (exp_X / exp_X_sum)\n",
        "            return exp_X\n",
        "    \n",
        "    def sigmoid(self, s, deriv=False):\n",
        "        if (deriv == True):\n",
        "            return s * (1 - s)\n",
        "        return 1/(1 + np.exp(-s))\n",
        "    \n",
        "    def relu(self, X):\n",
        "        return np.maximum(0, X)\n",
        "    \n",
        "    def preprocess_data(self, X, y):\n",
        "        data = np.array(X).reshape(-1, self.inputSize)\n",
        "        if self.type_nn == 'clas':\n",
        "            labels = np.zeros([data.shape[0], self.outputSize])\n",
        "            for i, label in enumerate(y):\n",
        "                labels[i,label] = 1\n",
        "            y = labels\n",
        "        else:\n",
        "            self.max_y_regr = np.max(y)\n",
        "            y = y / np.max(y)\n",
        "\n",
        "        for i in range(self.inputSize):\n",
        "            mean = data[:,i].mean()\n",
        "            std = data[:,i].std()\n",
        "            data[:,i] = (data[:,i] - mean) / std\n",
        "        return data, y\n",
        "\n",
        "    def feedForward(self, X):\n",
        "        self.z1 = np.array(self.sigmoid(np.matmul(X, self.W1) + self.b1.T)).reshape(len(X), self.hiddenSize1)\n",
        "        self.z2 = np.array(self.sigmoid(np.matmul(self.z1, self.W2) + self.b2.T)).reshape(len(X), self.hiddenSize2)\n",
        "        z3 = np.matmul(self.z2, self.W3) + self.b3.T\n",
        "        if self.type_nn == 'clas': \n",
        "            output = np.array(self.softmax(z3)).reshape(len(X), self.outputSize)\n",
        "        else:\n",
        "            output = np.array(self.relu(z3)).reshape(len(X), 1)\n",
        "        return output\n",
        "    \n",
        "    def backward(self, X, y, output):\n",
        "        if self.type_nn == 'clas':\n",
        "            self.output_error = self.loss_categorical(y, output, deriv = True)\n",
        "        else:\n",
        "            self.output_error = output - y\n",
        "        self.A2 = np.multiply(np.matmul((self.output_error), self.W3.T), self.sigmoid(self.z2, deriv = True))\n",
        "        self.A1 = np.multiply(np.matmul((self.A2), self.W2.T), self.sigmoid(self.z1, deriv = True))\n",
        "        \n",
        "        self.part_der3 = np.matmul(self.z2.T, self.output_error) / len(X)\n",
        "        self.part_der2 = np.matmul(self.z1.T, self.A2) / len(X)\n",
        "        self.part_der1 = np.matmul(X.T, self.A1) / len(X)\n",
        "        \n",
        "        self.W1 -= self.learning_rate * (self.part_der1)\n",
        "        self.W2 -= self.learning_rate * (self.part_der2)\n",
        "        self.W3 -= self.learning_rate * (self.part_der3)\n",
        "    \n",
        "    def loss_categorical(self, y, y_pred, deriv = False):\n",
        "        if (deriv == True):\n",
        "            return y_pred - y\n",
        "        else:\n",
        "            return -1 * np.sum(y * np.log(y_pred))\n",
        "\n",
        "    def calc_loss_acc(self, y, y_pred):\n",
        "        acc = 0\n",
        "        loss = 0\n",
        "        if self.type_nn == 'clas':\n",
        "            loss = self.loss_categorical(y, y_pred)\n",
        "            acc = np.sum(np.argmax(y, axis=1)==np.argmax(y_pred, axis=1)) / len(y)\n",
        "            self.loss_dict_clas.append(loss)\n",
        "            self.acc_dict_clas.append(acc)\n",
        "        else:\n",
        "            loss = mean_squared_error(y * self.max_y_regr, (y_pred * self.max_y_regr))\n",
        "            self.loss_dict_regr.append(loss)\n",
        "    \n",
        "    def predict(self, X):\n",
        "        output = self.feedForward(X)\n",
        "        return output\n",
        "    \n",
        "    def train(self, X, y, iterations = 2):\n",
        "        prep_X, prep_y = self.preprocess_data(X, y)\n",
        "        x_tr, x_val, y_tr, y_val = train_test_split(prep_X, prep_y, test_size = 0.1, random_state=17)\n",
        "        for index in range(iterations):\n",
        "            output = self.feedForward(x_tr)\n",
        "            self.backward(x_tr, y_tr, output)\n",
        "            self.calc_loss_acc(y_tr, output)\n",
        "            if index % 5000 == 0:\n",
        "                output_val = self.feedForward(x_val)\n",
        "                print('\\n\\nIteration {}'.format(index))\n",
        "                if self.type_nn == 'clas':\n",
        "                    print('loss = {}'.format(self.loss_dict_clas[-1]))\n",
        "                    print('accuracy = {}'.format(self.acc_dict_clas[-1] * 100))\n",
        "                    print('Predict = {}'.format(np.round(output_val[0:10])))\n",
        "                else:\n",
        "                    print('loss = {}'.format(self.loss_dict_regr[-1]))\n",
        "                    print('Predict = {}'.format(output_val[0:10]))\n",
        "                print('True = {}'.format(y_val[0:10]))\n",
        "    \n",
        "    def train_hybrid(self, X_regr, y_regr, X_clas, y_clas):\n",
        "        self.type_nn = 'clas'\n",
        "        self.train(X_clas, y_clas)\n",
        "        selt.type_nn = 'regr'\n",
        "        self.train(X_regr, y_regr)"
      ],
      "execution_count": 0,
      "outputs": []
    },
    {
      "cell_type": "markdown",
      "metadata": {
        "id": "KJGU7Kiyiq3W",
        "colab_type": "text"
      },
      "source": [
        "### Load data"
      ]
    },
    {
      "cell_type": "code",
      "metadata": {
        "id": "3PtJzOg3TlZ-",
        "colab_type": "code",
        "colab": {}
      },
      "source": [
        "from sklearn.datasets import load_breast_cancer, load_boston, load_iris\n",
        "\n",
        "breast = load_breast_cancer()\n",
        "data_breast = breast.data\n",
        "target_breast = breast.target\n",
        "\n",
        "boston = load_boston()\n",
        "data_boston = boston.data\n",
        "target_boston = boston.target\n",
        "\n",
        "iris = load_iris()\n",
        "data_iris = iris.data\n",
        "target_iris = iris.target"
      ],
      "execution_count": 0,
      "outputs": []
    },
    {
      "cell_type": "code",
      "metadata": {
        "id": "VUR5zcpuTlaG",
        "colab_type": "code",
        "outputId": "a389c057-10dd-4550-e20a-60f18c09e6a7",
        "colab": {
          "base_uri": "https://localhost:8080/",
          "height": 153
        }
      },
      "source": [
        "print(f'breast_data = {data_breast.shape}\\nunique classes breast = {np.unique(target_breast)}\\n\\n'\n",
        "f'data_boston = {data_boston.shape}\\ndata target example = {target_boston[7]}\\n\\n'\n",
        "f'data iris = {data_iris.shape}\\nunique iris target = {np.unique(target_iris)}')"
      ],
      "execution_count": 0,
      "outputs": [
        {
          "output_type": "stream",
          "text": [
            "breast_data = (569, 30)\n",
            "unique classes breast = [0 1]\n",
            "\n",
            "data_boston = (506, 13)\n",
            "data target example = 27.1\n",
            "\n",
            "data iris = (150, 4)\n",
            "unique iris target = [0 1 2]\n"
          ],
          "name": "stdout"
        }
      ]
    },
    {
      "cell_type": "code",
      "metadata": {
        "id": "biOGB7duTlaS",
        "colab_type": "code",
        "outputId": "444fb358-4c59-42e6-a27d-6dfc5e72ea5f",
        "colab": {
          "base_uri": "https://localhost:8080/",
          "height": 238
        }
      },
      "source": [
        "data_breast"
      ],
      "execution_count": 0,
      "outputs": [
        {
          "output_type": "execute_result",
          "data": {
            "text/plain": [
              "array([[1.799e+01, 1.038e+01, 1.228e+02, ..., 2.654e-01, 4.601e-01,\n",
              "        1.189e-01],\n",
              "       [2.057e+01, 1.777e+01, 1.329e+02, ..., 1.860e-01, 2.750e-01,\n",
              "        8.902e-02],\n",
              "       [1.969e+01, 2.125e+01, 1.300e+02, ..., 2.430e-01, 3.613e-01,\n",
              "        8.758e-02],\n",
              "       ...,\n",
              "       [1.660e+01, 2.808e+01, 1.083e+02, ..., 1.418e-01, 2.218e-01,\n",
              "        7.820e-02],\n",
              "       [2.060e+01, 2.933e+01, 1.401e+02, ..., 2.650e-01, 4.087e-01,\n",
              "        1.240e-01],\n",
              "       [7.760e+00, 2.454e+01, 4.792e+01, ..., 0.000e+00, 2.871e-01,\n",
              "        7.039e-02]])"
            ]
          },
          "metadata": {
            "tags": []
          },
          "execution_count": 177
        }
      ]
    },
    {
      "cell_type": "code",
      "metadata": {
        "id": "gE7dA8WsTlac",
        "colab_type": "code",
        "colab": {}
      },
      "source": [
        "z = list(zip(data_breast, target_breast))\n",
        "np.random.shuffle(z)\n",
        "z = np.array(z)\n",
        "data_breast, target_breast = zip(*z)\n",
        "\n",
        "z = list(zip(data_boston, target_boston))\n",
        "np.random.shuffle(z)\n",
        "z = np.array(z)\n",
        "data_boston, target_boston = zip(*z)\n",
        "\n",
        "data_breast = np.array(data_breast); target_breast = np.array(target_breast)\n",
        "data_boston = np.array(data_boston); target_boston = np.array(target_boston)\n",
        "\n",
        "x_train_breast, x_test_breast, y_train_breast, y_test_breast = train_test_split(data_breast, target_breast, test_size = 0.2)\n",
        "x_train_boston, x_test_boston, y_train_boston, y_test_boston = train_test_split(data_boston, target_boston, test_size = 0.2)\n",
        "x_train_iris, x_test_iris, y_train_iris, y_test_iris = train_test_split(data_iris, target_iris, test_size = 0.2)"
      ],
      "execution_count": 0,
      "outputs": []
    },
    {
      "cell_type": "code",
      "metadata": {
        "id": "7It53S7HTlak",
        "colab_type": "code",
        "outputId": "d0f8fe76-2969-41ea-ecd0-7887f880fa38",
        "colab": {
          "base_uri": "https://localhost:8080/",
          "height": 34
        }
      },
      "source": [
        "x_train_breast.shape, x_train_boston.shape, x_train_iris.shape"
      ],
      "execution_count": 0,
      "outputs": [
        {
          "output_type": "execute_result",
          "data": {
            "text/plain": [
              "((455, 30), (404, 13), (120, 4))"
            ]
          },
          "metadata": {
            "tags": []
          },
          "execution_count": 179
        }
      ]
    },
    {
      "cell_type": "code",
      "metadata": {
        "id": "MGNTict8ieW0",
        "colab_type": "code",
        "outputId": "140ddb51-7a53-4023-b1f2-18d4e96010c6",
        "colab": {
          "base_uri": "https://localhost:8080/",
          "height": 102
        }
      },
      "source": [
        "x_test_breast[0]"
      ],
      "execution_count": 0,
      "outputs": [
        {
          "output_type": "execute_result",
          "data": {
            "text/plain": [
              "array([1.578e+01, 2.291e+01, 1.057e+02, 7.826e+02, 1.155e-01, 1.752e-01,\n",
              "       2.133e-01, 9.479e-02, 2.096e-01, 7.331e-02, 5.520e-01, 1.072e+00,\n",
              "       3.598e+00, 5.863e+01, 8.699e-03, 3.976e-02, 5.950e-02, 1.390e-02,\n",
              "       1.495e-02, 5.984e-03, 2.019e+01, 3.050e+01, 1.303e+02, 1.272e+03,\n",
              "       1.855e-01, 4.925e-01, 7.356e-01, 2.034e-01, 3.274e-01, 1.252e-01])"
            ]
          },
          "metadata": {
            "tags": []
          },
          "execution_count": 180
        }
      ]
    },
    {
      "cell_type": "markdown",
      "metadata": {
        "id": "z5015GHFiu_i",
        "colab_type": "text"
      },
      "source": [
        "### Create NN and train it (classification task)"
      ]
    },
    {
      "cell_type": "code",
      "metadata": {
        "id": "uGpiF5iNTlax",
        "colab_type": "code",
        "colab": {}
      },
      "source": [
        "nn_breast_clas = NeuralNetwork(30, 4,4, 2, 0.01, 0.00001, type_nn = 'clas')"
      ],
      "execution_count": 0,
      "outputs": []
    },
    {
      "cell_type": "code",
      "metadata": {
        "id": "I58IBgBuhS_a",
        "colab_type": "code",
        "colab": {}
      },
      "source": [
        "x_test_breast, y_test_breast = nn_breast_clas.preprocess_data(x_test_breast, y_test_breast)"
      ],
      "execution_count": 0,
      "outputs": []
    },
    {
      "cell_type": "code",
      "metadata": {
        "id": "6KOTdWRlay-i",
        "colab_type": "code",
        "outputId": "a8f5c029-9f65-463f-8aee-929b058dfff5",
        "colab": {
          "base_uri": "https://localhost:8080/",
          "height": 1000
        }
      },
      "source": [
        "nn_breast_clas.train(x_train_breast, y_train_breast, iterations=50001)"
      ],
      "execution_count": 0,
      "outputs": [
        {
          "output_type": "stream",
          "text": [
            "\n",
            "\n",
            "Iteration 0\n",
            "loss = 282.6107486175603\n",
            "accuracy = 62.59168704156479\n",
            "Predict = [[0. 1.]\n",
            " [0. 1.]\n",
            " [0. 1.]\n",
            " [0. 1.]\n",
            " [0. 1.]\n",
            " [0. 1.]\n",
            " [0. 1.]\n",
            " [0. 1.]\n",
            " [0. 1.]\n",
            " [0. 1.]]\n",
            "True = [[0. 1.]\n",
            " [0. 1.]\n",
            " [0. 1.]\n",
            " [0. 1.]\n",
            " [0. 1.]\n",
            " [0. 1.]\n",
            " [1. 0.]\n",
            " [0. 1.]\n",
            " [1. 0.]\n",
            " [1. 0.]]\n",
            "\n",
            "\n",
            "Iteration 5000\n",
            "loss = 270.1614316527751\n",
            "accuracy = 62.59168704156479\n",
            "Predict = [[0. 1.]\n",
            " [0. 1.]\n",
            " [0. 1.]\n",
            " [0. 1.]\n",
            " [0. 1.]\n",
            " [0. 1.]\n",
            " [0. 1.]\n",
            " [0. 1.]\n",
            " [0. 1.]\n",
            " [0. 1.]]\n",
            "True = [[0. 1.]\n",
            " [0. 1.]\n",
            " [0. 1.]\n",
            " [0. 1.]\n",
            " [0. 1.]\n",
            " [0. 1.]\n",
            " [1. 0.]\n",
            " [0. 1.]\n",
            " [1. 0.]\n",
            " [1. 0.]]\n",
            "\n",
            "\n",
            "Iteration 10000\n",
            "loss = 268.3740122773882\n",
            "accuracy = 62.59168704156479\n",
            "Predict = [[0. 1.]\n",
            " [0. 1.]\n",
            " [0. 1.]\n",
            " [0. 1.]\n",
            " [0. 1.]\n",
            " [0. 1.]\n",
            " [0. 1.]\n",
            " [0. 1.]\n",
            " [0. 1.]\n",
            " [0. 1.]]\n",
            "True = [[0. 1.]\n",
            " [0. 1.]\n",
            " [0. 1.]\n",
            " [0. 1.]\n",
            " [0. 1.]\n",
            " [0. 1.]\n",
            " [1. 0.]\n",
            " [0. 1.]\n",
            " [1. 0.]\n",
            " [1. 0.]]\n",
            "\n",
            "\n",
            "Iteration 15000\n",
            "loss = 125.43365534760676\n",
            "accuracy = 94.86552567237165\n",
            "Predict = [[0. 1.]\n",
            " [0. 1.]\n",
            " [0. 1.]\n",
            " [0. 1.]\n",
            " [0. 1.]\n",
            " [0. 1.]\n",
            " [1. 0.]\n",
            " [1. 0.]\n",
            " [1. 0.]\n",
            " [1. 0.]]\n",
            "True = [[0. 1.]\n",
            " [0. 1.]\n",
            " [0. 1.]\n",
            " [0. 1.]\n",
            " [0. 1.]\n",
            " [0. 1.]\n",
            " [1. 0.]\n",
            " [0. 1.]\n",
            " [1. 0.]\n",
            " [1. 0.]]\n",
            "\n",
            "\n",
            "Iteration 20000\n",
            "loss = 35.848582688350014\n",
            "accuracy = 98.2885085574572\n",
            "Predict = [[0. 1.]\n",
            " [0. 1.]\n",
            " [0. 1.]\n",
            " [0. 1.]\n",
            " [0. 1.]\n",
            " [0. 1.]\n",
            " [1. 0.]\n",
            " [0. 1.]\n",
            " [1. 0.]\n",
            " [1. 0.]]\n",
            "True = [[0. 1.]\n",
            " [0. 1.]\n",
            " [0. 1.]\n",
            " [0. 1.]\n",
            " [0. 1.]\n",
            " [0. 1.]\n",
            " [1. 0.]\n",
            " [0. 1.]\n",
            " [1. 0.]\n",
            " [1. 0.]]\n",
            "\n",
            "\n",
            "Iteration 25000\n",
            "loss = 25.374811999800663\n",
            "accuracy = 98.53300733496333\n",
            "Predict = [[0. 1.]\n",
            " [0. 1.]\n",
            " [0. 1.]\n",
            " [0. 1.]\n",
            " [0. 1.]\n",
            " [0. 1.]\n",
            " [1. 0.]\n",
            " [0. 1.]\n",
            " [1. 0.]\n",
            " [1. 0.]]\n",
            "True = [[0. 1.]\n",
            " [0. 1.]\n",
            " [0. 1.]\n",
            " [0. 1.]\n",
            " [0. 1.]\n",
            " [0. 1.]\n",
            " [1. 0.]\n",
            " [0. 1.]\n",
            " [1. 0.]\n",
            " [1. 0.]]\n",
            "\n",
            "\n",
            "Iteration 30000\n",
            "loss = 21.062003243698946\n",
            "accuracy = 99.02200488997555\n",
            "Predict = [[0. 1.]\n",
            " [0. 1.]\n",
            " [0. 1.]\n",
            " [0. 1.]\n",
            " [0. 1.]\n",
            " [0. 1.]\n",
            " [1. 0.]\n",
            " [0. 1.]\n",
            " [1. 0.]\n",
            " [1. 0.]]\n",
            "True = [[0. 1.]\n",
            " [0. 1.]\n",
            " [0. 1.]\n",
            " [0. 1.]\n",
            " [0. 1.]\n",
            " [0. 1.]\n",
            " [1. 0.]\n",
            " [0. 1.]\n",
            " [1. 0.]\n",
            " [1. 0.]]\n",
            "\n",
            "\n",
            "Iteration 35000\n",
            "loss = 18.120855992142843\n",
            "accuracy = 99.02200488997555\n",
            "Predict = [[0. 1.]\n",
            " [0. 1.]\n",
            " [0. 1.]\n",
            " [0. 1.]\n",
            " [0. 1.]\n",
            " [0. 1.]\n",
            " [1. 0.]\n",
            " [0. 1.]\n",
            " [1. 0.]\n",
            " [1. 0.]]\n",
            "True = [[0. 1.]\n",
            " [0. 1.]\n",
            " [0. 1.]\n",
            " [0. 1.]\n",
            " [0. 1.]\n",
            " [0. 1.]\n",
            " [1. 0.]\n",
            " [0. 1.]\n",
            " [1. 0.]\n",
            " [1. 0.]]\n",
            "\n",
            "\n",
            "Iteration 40000\n",
            "loss = 15.591104665089894\n",
            "accuracy = 99.02200488997555\n",
            "Predict = [[0. 1.]\n",
            " [0. 1.]\n",
            " [0. 1.]\n",
            " [0. 1.]\n",
            " [0. 1.]\n",
            " [0. 1.]\n",
            " [1. 0.]\n",
            " [0. 1.]\n",
            " [1. 0.]\n",
            " [1. 0.]]\n",
            "True = [[0. 1.]\n",
            " [0. 1.]\n",
            " [0. 1.]\n",
            " [0. 1.]\n",
            " [0. 1.]\n",
            " [0. 1.]\n",
            " [1. 0.]\n",
            " [0. 1.]\n",
            " [1. 0.]\n",
            " [1. 0.]]\n",
            "\n",
            "\n",
            "Iteration 45000\n",
            "loss = 13.499140129367115\n",
            "accuracy = 99.02200488997555\n",
            "Predict = [[0. 1.]\n",
            " [0. 1.]\n",
            " [0. 1.]\n",
            " [0. 1.]\n",
            " [0. 1.]\n",
            " [0. 1.]\n",
            " [1. 0.]\n",
            " [0. 1.]\n",
            " [1. 0.]\n",
            " [1. 0.]]\n",
            "True = [[0. 1.]\n",
            " [0. 1.]\n",
            " [0. 1.]\n",
            " [0. 1.]\n",
            " [0. 1.]\n",
            " [0. 1.]\n",
            " [1. 0.]\n",
            " [0. 1.]\n",
            " [1. 0.]\n",
            " [1. 0.]]\n",
            "\n",
            "\n",
            "Iteration 50000\n",
            "loss = 11.858649420122447\n",
            "accuracy = 99.26650366748166\n",
            "Predict = [[0. 1.]\n",
            " [0. 1.]\n",
            " [0. 1.]\n",
            " [0. 1.]\n",
            " [0. 1.]\n",
            " [0. 1.]\n",
            " [1. 0.]\n",
            " [0. 1.]\n",
            " [1. 0.]\n",
            " [1. 0.]]\n",
            "True = [[0. 1.]\n",
            " [0. 1.]\n",
            " [0. 1.]\n",
            " [0. 1.]\n",
            " [0. 1.]\n",
            " [0. 1.]\n",
            " [1. 0.]\n",
            " [0. 1.]\n",
            " [1. 0.]\n",
            " [1. 0.]]\n"
          ],
          "name": "stdout"
        }
      ]
    },
    {
      "cell_type": "code",
      "metadata": {
        "id": "vdWx43kWl4aV",
        "colab_type": "code",
        "outputId": "8a9ba08e-1cae-4190-b4ea-4c0951362ec8",
        "colab": {
          "base_uri": "https://localhost:8080/",
          "height": 34
        }
      },
      "source": [
        "loss_dict = nn_breast_clas.loss_dict_clas\n",
        "len(loss_dict)"
      ],
      "execution_count": 0,
      "outputs": [
        {
          "output_type": "execute_result",
          "data": {
            "text/plain": [
              "50001"
            ]
          },
          "metadata": {
            "tags": []
          },
          "execution_count": 184
        }
      ]
    },
    {
      "cell_type": "code",
      "metadata": {
        "id": "mZlTfA_UTlbF",
        "colab_type": "code",
        "colab": {}
      },
      "source": [
        "\n",
        "# nn_boston_regr.train(x_train_boston, y_train_boston.reshape(len(y_train_boston), -1), iterations=100000)"
      ],
      "execution_count": 0,
      "outputs": []
    },
    {
      "cell_type": "markdown",
      "metadata": {
        "id": "_286ljOyTlbM",
        "colab_type": "text"
      },
      "source": [
        "### Test classification"
      ]
    },
    {
      "cell_type": "code",
      "metadata": {
        "id": "YG5aNBcwTlbP",
        "colab_type": "code",
        "outputId": "9d635d14-a51b-4c06-8e38-3aec47324182",
        "colab": {
          "base_uri": "https://localhost:8080/",
          "height": 187
        }
      },
      "source": [
        "y_test_breast[50:60]"
      ],
      "execution_count": 0,
      "outputs": [
        {
          "output_type": "execute_result",
          "data": {
            "text/plain": [
              "array([[1., 0.],\n",
              "       [0., 1.],\n",
              "       [0., 1.],\n",
              "       [1., 0.],\n",
              "       [0., 1.],\n",
              "       [1., 0.],\n",
              "       [0., 1.],\n",
              "       [1., 0.],\n",
              "       [1., 0.],\n",
              "       [0., 1.]])"
            ]
          },
          "metadata": {
            "tags": []
          },
          "execution_count": 187
        }
      ]
    },
    {
      "cell_type": "code",
      "metadata": {
        "id": "2imSMsGOTlbZ",
        "colab_type": "code",
        "outputId": "ee938f0f-01b7-442f-c1c0-e9fae0df9d20",
        "colab": {
          "base_uri": "https://localhost:8080/",
          "height": 187
        }
      },
      "source": [
        "res = np.round(nn_breast_clas.predict(x_test_breast), 0)\n",
        "res[50:60]"
      ],
      "execution_count": 0,
      "outputs": [
        {
          "output_type": "execute_result",
          "data": {
            "text/plain": [
              "array([[0., 1.],\n",
              "       [0., 1.],\n",
              "       [0., 1.],\n",
              "       [1., 0.],\n",
              "       [0., 1.],\n",
              "       [1., 0.],\n",
              "       [0., 1.],\n",
              "       [1., 0.],\n",
              "       [1., 0.],\n",
              "       [0., 1.]])"
            ]
          },
          "metadata": {
            "tags": []
          },
          "execution_count": 188
        }
      ]
    },
    {
      "cell_type": "code",
      "metadata": {
        "id": "N_EUP5_4nFG9",
        "colab_type": "code",
        "outputId": "0a72bce8-d76b-48ed-fb24-e40298a2f568",
        "colab": {
          "base_uri": "https://localhost:8080/",
          "height": 34
        }
      },
      "source": [
        "accuracy_score(y_test_breast, res)"
      ],
      "execution_count": 0,
      "outputs": [
        {
          "output_type": "execute_result",
          "data": {
            "text/plain": [
              "0.9736842105263158"
            ]
          },
          "metadata": {
            "tags": []
          },
          "execution_count": 189
        }
      ]
    },
    {
      "cell_type": "code",
      "metadata": {
        "id": "DV6qoxmooOBs",
        "colab_type": "code",
        "outputId": "8a9911c7-acb1-4901-b322-c1150a9a98fb",
        "colab": {
          "base_uri": "https://localhost:8080/",
          "height": 350
        }
      },
      "source": [
        "plt.figure(figsize=(15,5))\n",
        "plt.plot(list(range(1,len(loss_dict))),loss_dict[1:])\n",
        "plt.xlabel('Iterations')\n",
        "plt.ylabel('Loss')\n",
        "plt.title('Процесс обучения')\n",
        "plt.show()"
      ],
      "execution_count": 0,
      "outputs": [
        {
          "output_type": "display_data",
          "data": {
            "image/png": "[encoded data removed]",
            "text/plain": [
              "<Figure size 1080x360 with 1 Axes>"
            ]
          },
          "metadata": {
            "tags": []
          }
        }
      ]
    },
    {
      "cell_type": "markdown",
      "metadata": {
        "id": "749qPHrwTlbz",
        "colab_type": "text"
      },
      "source": [
        "### Train regression NN and test it"
      ]
    },
    {
      "cell_type": "code",
      "metadata": {
        "id": "INoNf0t8pZOy",
        "colab_type": "code",
        "colab": {}
      },
      "source": [
        "nn_boston_regr = NeuralNetwork(13, 4, 4, 1, 0.03, 0.00001, type_nn = 'regr')"
      ],
      "execution_count": 0,
      "outputs": []
    },
    {
      "cell_type": "code",
      "metadata": {
        "id": "UESCVqWppb7t",
        "colab_type": "code",
        "colab": {}
      },
      "source": [
        "x_test_boston, y_test_boston = nn_boston_regr.preprocess_data(x_test_boston, y_test_boston)"
      ],
      "execution_count": 0,
      "outputs": []
    },
    {
      "cell_type": "code",
      "metadata": {
        "id": "ajZWdNRkp1VJ",
        "colab_type": "code",
        "outputId": "04af11ba-a31a-4e70-ae48-b9daaa310aec",
        "colab": {
          "base_uri": "https://localhost:8080/",
          "height": 1000
        }
      },
      "source": [
        "nn_boston_regr.train(x_train_boston, y_train_boston.reshape(len(y_train_boston), -1), iterations=50001)"
      ],
      "execution_count": 0,
      "outputs": [
        {
          "output_type": "stream",
          "text": [
            "\n",
            "\n",
            "Iteration 0\n",
            "loss = 1073.0461975702897\n",
            "Predict = [[1.04216819]\n",
            " [1.04216255]\n",
            " [1.04213758]\n",
            " [1.04216293]\n",
            " [1.04211039]\n",
            " [1.04210885]\n",
            " [1.04211362]\n",
            " [1.04212669]\n",
            " [1.04217776]\n",
            " [1.04213275]]\n",
            "True = [[0.382]\n",
            " [0.328]\n",
            " [0.388]\n",
            " [0.398]\n",
            " [0.574]\n",
            " [0.58 ]\n",
            " [0.528]\n",
            " [0.42 ]\n",
            " [0.358]\n",
            " [0.502]]\n",
            "\n",
            "\n",
            "Iteration 5000\n",
            "loss = 83.6555709103113\n",
            "Predict = [[0.45286593]\n",
            " [0.45275143]\n",
            " [0.45303734]\n",
            " [0.45280992]\n",
            " [0.45329045]\n",
            " [0.45357992]\n",
            " [0.45319512]\n",
            " [0.45319025]\n",
            " [0.45239803]\n",
            " [0.45314243]]\n",
            "True = [[0.382]\n",
            " [0.328]\n",
            " [0.388]\n",
            " [0.398]\n",
            " [0.574]\n",
            " [0.58 ]\n",
            " [0.528]\n",
            " [0.42 ]\n",
            " [0.358]\n",
            " [0.502]]\n",
            "\n",
            "\n",
            "Iteration 10000\n",
            "loss = 83.24775640611213\n",
            "Predict = [[0.45212149]\n",
            " [0.45181478]\n",
            " [0.45278188]\n",
            " [0.45191729]\n",
            " [0.45372889]\n",
            " [0.45451323]\n",
            " [0.45326114]\n",
            " [0.45322851]\n",
            " [0.45033297]\n",
            " [0.4534402 ]]\n",
            "True = [[0.382]\n",
            " [0.328]\n",
            " [0.388]\n",
            " [0.398]\n",
            " [0.574]\n",
            " [0.58 ]\n",
            " [0.528]\n",
            " [0.42 ]\n",
            " [0.358]\n",
            " [0.502]]\n",
            "\n",
            "\n",
            "Iteration 15000\n",
            "loss = 81.65061426880443\n",
            "Predict = [[0.44925619]\n",
            " [0.44819557]\n",
            " [0.45193505]\n",
            " [0.44840165]\n",
            " [0.455544  ]\n",
            " [0.45781834]\n",
            " [0.45359346]\n",
            " [0.45347786]\n",
            " [0.44213051]\n",
            " [0.45486407]]\n",
            "True = [[0.382]\n",
            " [0.328]\n",
            " [0.388]\n",
            " [0.398]\n",
            " [0.574]\n",
            " [0.58 ]\n",
            " [0.528]\n",
            " [0.42 ]\n",
            " [0.358]\n",
            " [0.502]]\n",
            "\n",
            "\n",
            "Iteration 20000\n",
            "loss = 75.42729195628974\n",
            "Predict = [[0.43753288]\n",
            " [0.43325727]\n",
            " [0.44915034]\n",
            " [0.43372007]\n",
            " [0.46378515]\n",
            " [0.47058437]\n",
            " [0.45570594]\n",
            " [0.4553228 ]\n",
            " [0.41160379]\n",
            " [0.46208617]]\n",
            "True = [[0.382]\n",
            " [0.328]\n",
            " [0.388]\n",
            " [0.398]\n",
            " [0.574]\n",
            " [0.58 ]\n",
            " [0.528]\n",
            " [0.42 ]\n",
            " [0.358]\n",
            " [0.502]]\n",
            "\n",
            "\n",
            "Iteration 25000\n",
            "loss = 55.120044676317654\n",
            "Predict = [[0.39294495]\n",
            " [0.37619813]\n",
            " [0.44076406]\n",
            " [0.377294  ]\n",
            " [0.50709928]\n",
            " [0.5287417 ]\n",
            " [0.46837649]\n",
            " [0.46859522]\n",
            " [0.29905917]\n",
            " [0.50382591]]\n",
            "True = [[0.382]\n",
            " [0.328]\n",
            " [0.388]\n",
            " [0.398]\n",
            " [0.574]\n",
            " [0.58 ]\n",
            " [0.528]\n",
            " [0.42 ]\n",
            " [0.358]\n",
            " [0.502]]\n",
            "\n",
            "\n",
            "Iteration 30000\n",
            "loss = 37.56642782622581\n",
            "Predict = [[0.37598146]\n",
            " [0.36106138]\n",
            " [0.41943552]\n",
            " [0.36388935]\n",
            " [0.56830582]\n",
            " [0.60471915]\n",
            " [0.45241877]\n",
            " [0.46891652]\n",
            " [0.14562476]\n",
            " [0.57334744]]\n",
            "True = [[0.382]\n",
            " [0.328]\n",
            " [0.388]\n",
            " [0.398]\n",
            " [0.574]\n",
            " [0.58 ]\n",
            " [0.528]\n",
            " [0.42 ]\n",
            " [0.358]\n",
            " [0.502]]\n",
            "\n",
            "\n",
            "Iteration 35000\n",
            "loss = 28.659924588813467\n",
            "Predict = [[0.40059135]\n",
            " [0.40795687]\n",
            " [0.4023273 ]\n",
            " [0.41271689]\n",
            " [0.60204991]\n",
            " [0.63340357]\n",
            " [0.41373218]\n",
            " [0.44564404]\n",
            " [0.06338113]\n",
            " [0.61652955]]\n",
            "True = [[0.382]\n",
            " [0.328]\n",
            " [0.388]\n",
            " [0.398]\n",
            " [0.574]\n",
            " [0.58 ]\n",
            " [0.528]\n",
            " [0.42 ]\n",
            " [0.358]\n",
            " [0.502]]\n",
            "\n",
            "\n",
            "Iteration 40000\n",
            "loss = 24.96937241294619\n",
            "Predict = [[0.40452814]\n",
            " [0.41313489]\n",
            " [0.4007062 ]\n",
            " [0.41941547]\n",
            " [0.62282366]\n",
            " [0.6447316 ]\n",
            " [0.40686428]\n",
            " [0.4347021 ]\n",
            " [0.05313489]\n",
            " [0.63381089]]\n",
            "True = [[0.382]\n",
            " [0.328]\n",
            " [0.388]\n",
            " [0.398]\n",
            " [0.574]\n",
            " [0.58 ]\n",
            " [0.528]\n",
            " [0.42 ]\n",
            " [0.358]\n",
            " [0.502]]\n",
            "\n",
            "\n",
            "Iteration 45000\n",
            "loss = 22.376724912012314\n",
            "Predict = [[0.40365157]\n",
            " [0.40815525]\n",
            " [0.40013093]\n",
            " [0.41387873]\n",
            " [0.63455224]\n",
            " [0.65039289]\n",
            " [0.40578907]\n",
            " [0.42727607]\n",
            " [0.06906375]\n",
            " [0.63881906]]\n",
            "True = [[0.382]\n",
            " [0.328]\n",
            " [0.388]\n",
            " [0.398]\n",
            " [0.574]\n",
            " [0.58 ]\n",
            " [0.528]\n",
            " [0.42 ]\n",
            " [0.358]\n",
            " [0.502]]\n",
            "\n",
            "\n",
            "Iteration 50000\n",
            "loss = 20.50918865783438\n",
            "Predict = [[0.40343806]\n",
            " [0.40452888]\n",
            " [0.39807738]\n",
            " [0.40871254]\n",
            " [0.64150652]\n",
            " [0.65366067]\n",
            " [0.40455696]\n",
            " [0.42129089]\n",
            " [0.08611634]\n",
            " [0.64090434]]\n",
            "True = [[0.382]\n",
            " [0.328]\n",
            " [0.388]\n",
            " [0.398]\n",
            " [0.574]\n",
            " [0.58 ]\n",
            " [0.528]\n",
            " [0.42 ]\n",
            " [0.358]\n",
            " [0.502]]\n"
          ],
          "name": "stdout"
        }
      ]
    },
    {
      "cell_type": "code",
      "metadata": {
        "id": "zsVn2ztHTlb2",
        "colab_type": "code",
        "outputId": "62959e46-c427-43c9-ae6a-f0da5800fc5f",
        "colab": {
          "base_uri": "https://localhost:8080/",
          "height": 51
        }
      },
      "source": [
        "y_test_boston[20:40] * np.max(target_boston)"
      ],
      "execution_count": 0,
      "outputs": [
        {
          "output_type": "execute_result",
          "data": {
            "text/plain": [
              "array([28.6, 18.8, 20.1, 19.1, 21.9, 25. ,  8.8, 22.6, 37.6, 17.8, 20. ,\n",
              "       17.2, 22.6,  7. , 13.8, 18.9, 28. ,  7.5, 28.5, 37.2])"
            ]
          },
          "metadata": {
            "tags": []
          },
          "execution_count": 224
        }
      ]
    },
    {
      "cell_type": "code",
      "metadata": {
        "id": "sn1z4SCRTlb-",
        "colab_type": "code",
        "outputId": "6725e716-b0a4-4b07-f2c7-86145a32e9ad",
        "colab": {
          "base_uri": "https://localhost:8080/",
          "height": 357
        }
      },
      "source": [
        "(nn_boston_regr.predict(x_test_boston) * np.max(target_boston))[20:40]"
      ],
      "execution_count": 0,
      "outputs": [
        {
          "output_type": "execute_result",
          "data": {
            "text/plain": [
              "array([[28.05083819],\n",
              "       [21.20403921],\n",
              "       [19.59941653],\n",
              "       [17.3325155 ],\n",
              "       [40.50593111],\n",
              "       [25.41510538],\n",
              "       [ 6.48620134],\n",
              "       [21.97119358],\n",
              "       [37.42331527],\n",
              "       [24.23278228],\n",
              "       [19.66712987],\n",
              "       [13.75548669],\n",
              "       [25.30806228],\n",
              "       [ 3.04061023],\n",
              "       [21.305038  ],\n",
              "       [21.59014674],\n",
              "       [28.41037242],\n",
              "       [12.85334294],\n",
              "       [31.77025192],\n",
              "       [32.02910538]])"
            ]
          },
          "metadata": {
            "tags": []
          },
          "execution_count": 221
        }
      ]
    },
    {
      "cell_type": "code",
      "metadata": {
        "id": "IAcyR3xqTlcG",
        "colab_type": "code",
        "outputId": "c229fb09-058e-40d8-b754-23f74edf0ba6",
        "colab": {
          "base_uri": "https://localhost:8080/",
          "height": 34
        }
      },
      "source": [
        "mean_squared_error(y_test_boston * np.max(target_boston), (nn_boston_regr.predict(x_test_boston) * np.max(target_boston)))"
      ],
      "execution_count": 0,
      "outputs": [
        {
          "output_type": "execute_result",
          "data": {
            "text/plain": [
              "21.03913211968472"
            ]
          },
          "metadata": {
            "tags": []
          },
          "execution_count": 225
        }
      ]
    }
  ]
}