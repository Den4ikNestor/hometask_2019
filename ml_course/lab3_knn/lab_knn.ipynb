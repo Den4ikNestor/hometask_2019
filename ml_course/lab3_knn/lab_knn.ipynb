{
 "cells": [
  {
   "cell_type": "markdown",
   "metadata": {},
   "source": [
    "# k Nearest Neighbors\n",
    "## Classification\n",
    "Реализуйте алгоритм к ближайших соседей. \n",
    "Создадим искуственный набор данных из 100 наблюдений с 3 классами.\n",
    "Необходимо реализовать функцию на входе которой:\n",
    "- тренировочный набор данных (признаки и метки классов);\n",
    "- тестовый набор данных (признаки);\n",
    "- $k$ - количество ближайших соседей.\n",
    "\n",
    "На выходе функция должна возвращать метки тестового набора данных. \n",
    "В качестве расстояния между объектами следует использовать Эвклидову меру.\n",
    "\n",
    "**Алгоритм к ближайших соседей:**\n",
    "\n",
    "Для каждого объекта тестового набора данных:\n",
    "1. вычисление расстояний между всеми объектами тренировочного набора;\n",
    "2. определение $k$ наименьших расстояний;\n",
    "3. определение классов для $k$ найденных объектов;\n",
    "4. присваивание метки тестовому объекту класса, который превалирует среди найденных объектов.\n",
    "\n",
    "В многоклассовой модели может возникнуть неопределенность, что в 3 найденных объектак будут присутсвовать разные классы. В этом случае необходимо присваивать класс случайным образом."
   ]
  },
  {
   "cell_type": "code",
   "execution_count": 59,
   "metadata": {},
   "outputs": [],
   "source": [
    "import matplotlib.pyplot as plt\n",
    "from sklearn.datasets import make_blobs\n",
    "import pandas as pd\n",
    "import numpy as np"
   ]
  },
  {
   "cell_type": "code",
   "execution_count": 60,
   "metadata": {},
   "outputs": [],
   "source": [
    "X, Y = make_blobs(n_samples = 100, n_features=2, centers=3, cluster_std = 2, random_state=17)"
   ]
  },
  {
   "cell_type": "code",
   "execution_count": 61,
   "metadata": {},
   "outputs": [
    {
     "data": {
      "image/png": "[encoded data removed]",
      "text/plain": [
       "<Figure size 720x504 with 1 Axes>"
      ]
     },
     "metadata": {
      "needs_background": "light"
     },
     "output_type": "display_data"
    }
   ],
   "source": [
    "plt.figure(figsize=(10,7))\n",
    "plt.scatter(X[:,0], X[:,1], c=Y)\n",
    "plt.title('Initial data');"
   ]
  },
  {
   "cell_type": "code",
   "execution_count": 62,
   "metadata": {},
   "outputs": [],
   "source": [
    "def calc_distance(X, Y):\n",
    "    distance = 0\n",
    "    for i in range(len(X)):\n",
    "        distance += (X[i] - Y[i])**2\n",
    "    return np.sqrt(distance)"
   ]
  },
  {
   "cell_type": "code",
   "execution_count": 27,
   "metadata": {},
   "outputs": [],
   "source": [
    "dictionary = {}\n",
    "dictionary[(1,1)] = [25, 0]\n",
    "dictionary[(1,2)] = [50, 0]\n",
    "dictionary[(1,3)] = [40, 1]\n",
    "dictionary"
   ]
  },
  {
   "cell_type": "code",
   "execution_count": 58,
   "metadata": {},
   "outputs": [
    {
     "name": "stdout",
     "output_type": "stream",
     "text": [
      "[[25, 0], [40, 1], [50, 0]]\n"
     ]
    },
    {
     "ename": "NameError",
     "evalue": "name 'groupby' is not defined",
     "output_type": "error",
     "traceback": [
      "\u001b[1;31m---------------------------------------------------------------------------\u001b[0m",
      "\u001b[1;31mNameError\u001b[0m                                 Traceback (most recent call last)",
      "\u001b[1;32m<ipython-input-58-5f812416c746>\u001b[0m in \u001b[0;36m<module>\u001b[1;34m\u001b[0m\n\u001b[0;32m      2\u001b[0m \u001b[0msorted_x\u001b[0m \u001b[1;33m=\u001b[0m \u001b[0msorted\u001b[0m\u001b[1;33m(\u001b[0m\u001b[0mdictionary\u001b[0m\u001b[1;33m.\u001b[0m\u001b[0mvalues\u001b[0m\u001b[1;33m(\u001b[0m\u001b[1;33m)\u001b[0m\u001b[1;33m,\u001b[0m \u001b[0mkey\u001b[0m\u001b[1;33m=\u001b[0m\u001b[0moperator\u001b[0m\u001b[1;33m.\u001b[0m\u001b[0mitemgetter\u001b[0m\u001b[1;33m(\u001b[0m\u001b[1;36m0\u001b[0m\u001b[1;33m)\u001b[0m\u001b[1;33m)\u001b[0m\u001b[1;33m\u001b[0m\u001b[1;33m\u001b[0m\u001b[0m\n\u001b[0;32m      3\u001b[0m \u001b[0mprint\u001b[0m\u001b[1;33m(\u001b[0m\u001b[0msorted_x\u001b[0m\u001b[1;33m[\u001b[0m\u001b[1;33m:\u001b[0m\u001b[0mk\u001b[0m\u001b[1;33m]\u001b[0m\u001b[1;33m)\u001b[0m\u001b[1;33m\u001b[0m\u001b[1;33m\u001b[0m\u001b[0m\n\u001b[1;32m----> 4\u001b[1;33m \u001b[0mgroups\u001b[0m \u001b[1;33m=\u001b[0m \u001b[0mgroupby\u001b[0m\u001b[1;33m(\u001b[0m\u001b[0msorted_x\u001b[0m\u001b[1;33m,\u001b[0m \u001b[0mkey\u001b[0m\u001b[1;33m=\u001b[0m\u001b[0moperator\u001b[0m\u001b[1;33m.\u001b[0m\u001b[0mitemgetter\u001b[0m\u001b[1;33m(\u001b[0m\u001b[1;36m1\u001b[0m\u001b[1;33m)\u001b[0m\u001b[1;33m)\u001b[0m\u001b[1;33m\u001b[0m\u001b[1;33m\u001b[0m\u001b[0m\n\u001b[0m\u001b[0;32m      5\u001b[0m \u001b[0mprint\u001b[0m\u001b[1;33m(\u001b[0m\u001b[0mgroups\u001b[0m\u001b[1;33m)\u001b[0m\u001b[1;33m\u001b[0m\u001b[1;33m\u001b[0m\u001b[0m\n",
      "\u001b[1;31mNameError\u001b[0m: name 'groupby' is not defined"
     ]
    }
   ],
   "source": [
    "import operator\n",
    "sorted_x = sorted(dictionary.values(), key=operator.itemgetter(0))\n",
    "print(sorted_x[:k])\n",
    "groups = groupby(sorted_x, key=operator.itemgetter(1))\n",
    "print(groups)"
   ]
  },
  {
   "cell_type": "code",
   "execution_count": 18,
   "metadata": {},
   "outputs": [],
   "source": [
    "def knn(x_train, y_train, x_test, k):\n",
    "    predict_df = pd.DataFrame()\n",
    "    predict_df.columns = ['Train', 'Test', 'Distance', 'Class', 'pred_class']\n",
    "    for test in x_test:\n",
    "        for ind, train in enumerate(x_train):\n",
    "            precict_df.iloc[ind] = [train, test, calc_distance(train, test), x_test[ind], None]\n",
    "        class_counts = (neighs.sort_values(['dist'])[:k])['class'].value_counts()\n",
    "        target = np.random.choice(class_counts[class_counts == class_counts.max()].index)\n",
    "        \n",
    "        y_test.append(int(target))    \n",
    "    return np.array(y_test)\n",
    "#     sortdist = sorted(distances.items(), key=operator.itemgetter(1))\n",
    "#     neighbors = []\n",
    "#     for x in range(k):\n",
    "#         neighbors.append(sortdist[x][0])\n",
    "#     Count = {}  # to get most frequent class of rows\n",
    "#     for x in range(len(neighbors)):\n",
    "#         response = trainingSet.iloc[neighbors[x]][-1]\n",
    "#         if response in Count:\n",
    "#             Count[response] += 1\n",
    "#         else:\n",
    "#             Count[response] = 1\n",
    "#     sortcount = sorted(Count.items(), key=operator.itemgetter(1), reverse=True)\n",
    "#     return (sortcount[0][0], neighbors)"
   ]
  },
  {
   "cell_type": "code",
   "execution_count": 19,
   "metadata": {},
   "outputs": [],
   "source": [
    "def funct_kNN(x_train, y_train, y_test, k):\n",
    "    \n",
    "    return y_test"
   ]
  },
  {
   "cell_type": "markdown",
   "metadata": {},
   "source": [
    "Для корректного анализа построенного классификатора, разбейте исходный набор данных на тренировочный и тестовый.\n",
    "Проверьте качество классификации для различных параметров $k$ (1, 3, 5, 7, 9) метрикой точность (Accuracy). Точность это отношение количества правильно классифицированных объектов ко всему количеству объектов."
   ]
  },
  {
   "cell_type": "code",
   "execution_count": 20,
   "metadata": {},
   "outputs": [],
   "source": [
    "h = 0.5\n",
    "x_min, x_max = np.min(X[:,0]) - 1, np.max(X[:,0]) + 1\n",
    "y_min, y_max = np.min(X[:,1]) - 1, np.max(X[:,1]) + 1\n",
    "xx, yy = np.meshgrid(np.arange(x_min, x_max, h), np.arange(y_min, y_max, h))"
   ]
  },
  {
   "cell_type": "code",
   "execution_count": 23,
   "metadata": {},
   "outputs": [],
   "source": [
    "results = knn(X, Y, np.vstack((xx.ravel(), yy.ravel())).T, k=3)"
   ]
  },
  {
   "cell_type": "code",
   "execution_count": 24,
   "metadata": {},
   "outputs": [
    {
     "name": "stderr",
     "output_type": "stream",
     "text": [
      "IOPub data rate exceeded.\n",
      "The notebook server will temporarily stop sending output\n",
      "to the client in order to avoid crashing it.\n",
      "To change this limit, set the config variable\n",
      "`--NotebookApp.iopub_data_rate_limit`.\n",
      "\n",
      "Current values:\n",
      "NotebookApp.iopub_data_rate_limit=1000000.0 (bytes/sec)\n",
      "NotebookApp.rate_limit_window=3.0 (secs)\n",
      "\n"
     ]
    }
   ],
   "source": [
    "print(results)"
   ]
  },
  {
   "cell_type": "code",
   "execution_count": 59,
   "metadata": {},
   "outputs": [
    {
     "name": "stdout",
     "output_type": "stream",
     "text": [
      "-11.365836517592687 10.650260182123205 -16.441854394619032 8.302049901911769\n",
      "[-11.36583652 -10.86583652 -10.36583652  -9.86583652  -9.36583652\n",
      "  -8.86583652  -8.36583652  -7.86583652  -7.36583652  -6.86583652\n",
      "  -6.36583652  -5.86583652  -5.36583652  -4.86583652  -4.36583652\n",
      "  -3.86583652  -3.36583652  -2.86583652  -2.36583652  -1.86583652\n",
      "  -1.36583652  -0.86583652  -0.36583652   0.13416348   0.63416348\n",
      "   1.13416348   1.63416348   2.13416348   2.63416348   3.13416348\n",
      "   3.63416348   4.13416348   4.63416348   5.13416348   5.63416348\n",
      "   6.13416348   6.63416348   7.13416348   7.63416348   8.13416348\n",
      "   8.63416348   9.13416348   9.63416348  10.13416348  10.63416348]\n"
     ]
    }
   ],
   "source": [
    "print(x_min, x_max, y_min, y_max)\n",
    "print(np.arange(x_min, x_max, h))"
   ]
  },
  {
   "cell_type": "markdown",
   "metadata": {},
   "source": [
    "Постройте разделающие поверхности, которые строит классификатор"
   ]
  },
  {
   "cell_type": "markdown",
   "metadata": {},
   "source": [
    "## Regression\n",
    "Напишите функцию для регрессии методом к ближайших соседей.\n",
    "\n",
    "Для проверки вашего регрессионной модели создайте функцию синуса в диапазоне [0, 5] и возьмите в этом диапазоне 10 случайных точек как тренеровочную выборку. \n",
    "Задача: предсказать функцию на всем диапазоне [0, 5] для всех возможных значений параметра $k$.\n",
    "\n",
    "$y = sin(x)$\n",
    "\n",
    "**Алгоритм регрессии:**\n",
    "\n",
    "Для каждого тестового обекта:\n",
    "1. вычисление расстояний между всеми тренировочными объектами (можно использовать просто разницу по модулю между признаками объектов, так как у нас всего один признак в задаче);\n",
    "2. нахождение $k$ объектов с минимальными расстояниями;\n",
    "3. вычисление среднего значения по к найденным объектам и присваивание этого значения тестовому объекту."
   ]
  },
  {
   "cell_type": "code",
   "execution_count": 4,
   "metadata": {},
   "outputs": [],
   "source": [
    "# code here"
   ]
  },
  {
   "cell_type": "markdown",
   "metadata": {},
   "source": [
    "Постройте на одном графике исходную функцию, тренировочные объекты и предсказанные функции для каждого значения $k$."
   ]
  },
  {
   "cell_type": "code",
   "execution_count": null,
   "metadata": {},
   "outputs": [],
   "source": []
  }
 ],
 "metadata": {
  "kernelspec": {
   "display_name": "Python 3",
   "language": "python",
   "name": "python3"
  },
  "language_info": {
   "codemirror_mode": {
    "name": "ipython",
    "version": 3
   },
   "file_extension": ".py",
   "mimetype": "text/x-python",
   "name": "python",
   "nbconvert_exporter": "python",
   "pygments_lexer": "ipython3",
   "version": "3.7.3"
  }
 },
 "nbformat": 4,
 "nbformat_minor": 4
}
